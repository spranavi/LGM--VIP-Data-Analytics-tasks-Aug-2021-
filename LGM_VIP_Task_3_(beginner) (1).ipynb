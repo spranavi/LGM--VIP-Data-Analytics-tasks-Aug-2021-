{
  "nbformat": 4,
  "nbformat_minor": 0,
  "metadata": {
    "colab": {
      "name": "LGM -VIP- Task-3 (beginner).ipynb",
      "provenance": [],
      "collapsed_sections": []
    },
    "kernelspec": {
      "name": "python3",
      "display_name": "Python 3"
    },
    "language_info": {
      "name": "python"
    }
  },
  "cells": [
    {
      "cell_type": "markdown",
      "metadata": {
        "id": "ko8ipCOffqtC"
      },
      "source": [
        "# LetsGrowMore -VIP"
      ]
    },
    {
      "cell_type": "markdown",
      "metadata": {
        "id": "6HMIj5z2f976"
      },
      "source": [
        "## Author: Pranavi Shakkari"
      ]
    },
    {
      "cell_type": "markdown",
      "metadata": {
        "id": "iW-6QWKYf-Zv"
      },
      "source": [
        "### Beginner Level - Task 3"
      ]
    },
    {
      "cell_type": "markdown",
      "metadata": {
        "id": "P7_zW6-Qf_PP"
      },
      "source": [
        "#### Music Recommendation"
      ]
    },
    {
      "cell_type": "markdown",
      "metadata": {
        "id": "YHEwkUmxgZDN"
      },
      "source": [
        "##### 1.Importing libraries"
      ]
    },
    {
      "cell_type": "code",
      "metadata": {
        "id": "WHK6hHUHO5AM"
      },
      "source": [
        "import numpy as np\n",
        "import matplotlib.pyplot as plt\n",
        "import pandas as pd\n",
        "from sklearn.model_selection import train_test_split"
      ],
      "execution_count": null,
      "outputs": []
    },
    {
      "cell_type": "markdown",
      "metadata": {
        "id": "qzedoREVgg3L"
      },
      "source": [
        "##### 2.Reading the data"
      ]
    },
    {
      "cell_type": "code",
      "metadata": {
        "colab": {
          "base_uri": "https://localhost:8080/"
        },
        "id": "4rIIP6hvcjYB",
        "outputId": "33a05558-fc30-4bf6-e024-cdc26fa0f27c"
      },
      "source": [
        "from google.colab import drive\n",
        "drive.mount('/content/drive')"
      ],
      "execution_count": null,
      "outputs": [
        {
          "output_type": "stream",
          "text": [
            "Mounted at /content/drive\n"
          ],
          "name": "stdout"
        }
      ]
    },
    {
      "cell_type": "code",
      "metadata": {
        "colab": {
          "base_uri": "https://localhost:8080/",
          "height": 206
        },
        "id": "rmXijFUScMiV",
        "outputId": "f930fb75-3df1-4851-fdc8-f91e2cab8ff4"
      },
      "source": [
        "df1 = pd.read_csv(\"/content/drive/My Drive/sample_submission.csv\")\n",
        "df1.head()"
      ],
      "execution_count": null,
      "outputs": [
        {
          "output_type": "execute_result",
          "data": {
            "text/html": [
              "<div>\n",
              "<style scoped>\n",
              "    .dataframe tbody tr th:only-of-type {\n",
              "        vertical-align: middle;\n",
              "    }\n",
              "\n",
              "    .dataframe tbody tr th {\n",
              "        vertical-align: top;\n",
              "    }\n",
              "\n",
              "    .dataframe thead th {\n",
              "        text-align: right;\n",
              "    }\n",
              "</style>\n",
              "<table border=\"1\" class=\"dataframe\">\n",
              "  <thead>\n",
              "    <tr style=\"text-align: right;\">\n",
              "      <th></th>\n",
              "      <th>id</th>\n",
              "      <th>target</th>\n",
              "    </tr>\n",
              "  </thead>\n",
              "  <tbody>\n",
              "    <tr>\n",
              "      <th>0</th>\n",
              "      <td>0</td>\n",
              "      <td>0.5</td>\n",
              "    </tr>\n",
              "    <tr>\n",
              "      <th>1</th>\n",
              "      <td>1</td>\n",
              "      <td>0.5</td>\n",
              "    </tr>\n",
              "    <tr>\n",
              "      <th>2</th>\n",
              "      <td>2</td>\n",
              "      <td>0.5</td>\n",
              "    </tr>\n",
              "    <tr>\n",
              "      <th>3</th>\n",
              "      <td>3</td>\n",
              "      <td>0.5</td>\n",
              "    </tr>\n",
              "    <tr>\n",
              "      <th>4</th>\n",
              "      <td>4</td>\n",
              "      <td>0.5</td>\n",
              "    </tr>\n",
              "  </tbody>\n",
              "</table>\n",
              "</div>"
            ],
            "text/plain": [
              "   id  target\n",
              "0   0     0.5\n",
              "1   1     0.5\n",
              "2   2     0.5\n",
              "3   3     0.5\n",
              "4   4     0.5"
            ]
          },
          "metadata": {},
          "execution_count": 4
        }
      ]
    },
    {
      "cell_type": "code",
      "metadata": {
        "colab": {
          "base_uri": "https://localhost:8080/",
          "height": 206
        },
        "id": "PVynplDId411",
        "outputId": "41c79e8d-c8a7-4ac5-9494-30b4dd2aee6d"
      },
      "source": [
        "df2 = pd.read_csv(\"/content/drive/My Drive/song_extra_info.csv\")\n",
        "df2.head()"
      ],
      "execution_count": null,
      "outputs": [
        {
          "output_type": "execute_result",
          "data": {
            "text/html": [
              "<div>\n",
              "<style scoped>\n",
              "    .dataframe tbody tr th:only-of-type {\n",
              "        vertical-align: middle;\n",
              "    }\n",
              "\n",
              "    .dataframe tbody tr th {\n",
              "        vertical-align: top;\n",
              "    }\n",
              "\n",
              "    .dataframe thead th {\n",
              "        text-align: right;\n",
              "    }\n",
              "</style>\n",
              "<table border=\"1\" class=\"dataframe\">\n",
              "  <thead>\n",
              "    <tr style=\"text-align: right;\">\n",
              "      <th></th>\n",
              "      <th>song_id</th>\n",
              "      <th>name</th>\n",
              "      <th>isrc</th>\n",
              "    </tr>\n",
              "  </thead>\n",
              "  <tbody>\n",
              "    <tr>\n",
              "      <th>0</th>\n",
              "      <td>LP7pLJoJFBvyuUwvu+oLzjT+bI+UeBPURCecJsX1jjs=</td>\n",
              "      <td>我們</td>\n",
              "      <td>TWUM71200043</td>\n",
              "    </tr>\n",
              "    <tr>\n",
              "      <th>1</th>\n",
              "      <td>ClazTFnk6r0Bnuie44bocdNMM3rdlrq0bCGAsGUWcHE=</td>\n",
              "      <td>Let Me Love You</td>\n",
              "      <td>QMZSY1600015</td>\n",
              "    </tr>\n",
              "    <tr>\n",
              "      <th>2</th>\n",
              "      <td>u2ja/bZE3zhCGxvbbOB3zOoUjx27u40cf5g09UXMoKQ=</td>\n",
              "      <td>原諒我</td>\n",
              "      <td>TWA530887303</td>\n",
              "    </tr>\n",
              "    <tr>\n",
              "      <th>3</th>\n",
              "      <td>92Fqsy0+p6+RHe2EoLKjHahORHR1Kq1TBJoClW9v+Ts=</td>\n",
              "      <td>Classic</td>\n",
              "      <td>USSM11301446</td>\n",
              "    </tr>\n",
              "    <tr>\n",
              "      <th>4</th>\n",
              "      <td>0QFmz/+rJy1Q56C1DuYqT9hKKqi5TUqx0sN0IwvoHrw=</td>\n",
              "      <td>愛投羅網</td>\n",
              "      <td>TWA471306001</td>\n",
              "    </tr>\n",
              "  </tbody>\n",
              "</table>\n",
              "</div>"
            ],
            "text/plain": [
              "                                        song_id             name          isrc\n",
              "0  LP7pLJoJFBvyuUwvu+oLzjT+bI+UeBPURCecJsX1jjs=               我們  TWUM71200043\n",
              "1  ClazTFnk6r0Bnuie44bocdNMM3rdlrq0bCGAsGUWcHE=  Let Me Love You  QMZSY1600015\n",
              "2  u2ja/bZE3zhCGxvbbOB3zOoUjx27u40cf5g09UXMoKQ=              原諒我  TWA530887303\n",
              "3  92Fqsy0+p6+RHe2EoLKjHahORHR1Kq1TBJoClW9v+Ts=          Classic  USSM11301446\n",
              "4  0QFmz/+rJy1Q56C1DuYqT9hKKqi5TUqx0sN0IwvoHrw=             愛投羅網  TWA471306001"
            ]
          },
          "metadata": {},
          "execution_count": 5
        }
      ]
    },
    {
      "cell_type": "code",
      "metadata": {
        "colab": {
          "base_uri": "https://localhost:8080/",
          "height": 206
        },
        "id": "7I_pVAareJtG",
        "outputId": "3ace7064-abd9-442f-cdeb-a487058951a3"
      },
      "source": [
        "df3=pd.read_csv(\"/content/drive/My Drive/members.csv\")\n",
        "df3.head()"
      ],
      "execution_count": null,
      "outputs": [
        {
          "output_type": "execute_result",
          "data": {
            "text/html": [
              "<div>\n",
              "<style scoped>\n",
              "    .dataframe tbody tr th:only-of-type {\n",
              "        vertical-align: middle;\n",
              "    }\n",
              "\n",
              "    .dataframe tbody tr th {\n",
              "        vertical-align: top;\n",
              "    }\n",
              "\n",
              "    .dataframe thead th {\n",
              "        text-align: right;\n",
              "    }\n",
              "</style>\n",
              "<table border=\"1\" class=\"dataframe\">\n",
              "  <thead>\n",
              "    <tr style=\"text-align: right;\">\n",
              "      <th></th>\n",
              "      <th>msno</th>\n",
              "      <th>city</th>\n",
              "      <th>bd</th>\n",
              "      <th>gender</th>\n",
              "      <th>registered_via</th>\n",
              "      <th>registration_init_time</th>\n",
              "      <th>expiration_date</th>\n",
              "    </tr>\n",
              "  </thead>\n",
              "  <tbody>\n",
              "    <tr>\n",
              "      <th>0</th>\n",
              "      <td>XQxgAYj3klVKjR3oxPPXYYFp4soD4TuBghkhMTD4oTw=</td>\n",
              "      <td>1</td>\n",
              "      <td>0</td>\n",
              "      <td>NaN</td>\n",
              "      <td>7</td>\n",
              "      <td>20110820</td>\n",
              "      <td>20170920</td>\n",
              "    </tr>\n",
              "    <tr>\n",
              "      <th>1</th>\n",
              "      <td>UizsfmJb9mV54qE9hCYyU07Va97c0lCRLEQX3ae+ztM=</td>\n",
              "      <td>1</td>\n",
              "      <td>0</td>\n",
              "      <td>NaN</td>\n",
              "      <td>7</td>\n",
              "      <td>20150628</td>\n",
              "      <td>20170622</td>\n",
              "    </tr>\n",
              "    <tr>\n",
              "      <th>2</th>\n",
              "      <td>D8nEhsIOBSoE6VthTaqDX8U6lqjJ7dLdr72mOyLya2A=</td>\n",
              "      <td>1</td>\n",
              "      <td>0</td>\n",
              "      <td>NaN</td>\n",
              "      <td>4</td>\n",
              "      <td>20160411</td>\n",
              "      <td>20170712</td>\n",
              "    </tr>\n",
              "    <tr>\n",
              "      <th>3</th>\n",
              "      <td>mCuD+tZ1hERA/o5GPqk38e041J8ZsBaLcu7nGoIIvhI=</td>\n",
              "      <td>1</td>\n",
              "      <td>0</td>\n",
              "      <td>NaN</td>\n",
              "      <td>9</td>\n",
              "      <td>20150906</td>\n",
              "      <td>20150907</td>\n",
              "    </tr>\n",
              "    <tr>\n",
              "      <th>4</th>\n",
              "      <td>q4HRBfVSssAFS9iRfxWrohxuk9kCYMKjHOEagUMV6rQ=</td>\n",
              "      <td>1</td>\n",
              "      <td>0</td>\n",
              "      <td>NaN</td>\n",
              "      <td>4</td>\n",
              "      <td>20170126</td>\n",
              "      <td>20170613</td>\n",
              "    </tr>\n",
              "  </tbody>\n",
              "</table>\n",
              "</div>"
            ],
            "text/plain": [
              "                                           msno  ...  expiration_date\n",
              "0  XQxgAYj3klVKjR3oxPPXYYFp4soD4TuBghkhMTD4oTw=  ...         20170920\n",
              "1  UizsfmJb9mV54qE9hCYyU07Va97c0lCRLEQX3ae+ztM=  ...         20170622\n",
              "2  D8nEhsIOBSoE6VthTaqDX8U6lqjJ7dLdr72mOyLya2A=  ...         20170712\n",
              "3  mCuD+tZ1hERA/o5GPqk38e041J8ZsBaLcu7nGoIIvhI=  ...         20150907\n",
              "4  q4HRBfVSssAFS9iRfxWrohxuk9kCYMKjHOEagUMV6rQ=  ...         20170613\n",
              "\n",
              "[5 rows x 7 columns]"
            ]
          },
          "metadata": {},
          "execution_count": 6
        }
      ]
    },
    {
      "cell_type": "code",
      "metadata": {
        "colab": {
          "base_uri": "https://localhost:8080/",
          "height": 241
        },
        "id": "h-JCKEdmeYGc",
        "outputId": "69a3e32a-b647-4cac-afb1-ce9024692e92"
      },
      "source": [
        "df4=pd.read_csv(\"/content/drive/My Drive/songs.csv\")\n",
        "df4.head()"
      ],
      "execution_count": null,
      "outputs": [
        {
          "output_type": "execute_result",
          "data": {
            "text/html": [
              "<div>\n",
              "<style scoped>\n",
              "    .dataframe tbody tr th:only-of-type {\n",
              "        vertical-align: middle;\n",
              "    }\n",
              "\n",
              "    .dataframe tbody tr th {\n",
              "        vertical-align: top;\n",
              "    }\n",
              "\n",
              "    .dataframe thead th {\n",
              "        text-align: right;\n",
              "    }\n",
              "</style>\n",
              "<table border=\"1\" class=\"dataframe\">\n",
              "  <thead>\n",
              "    <tr style=\"text-align: right;\">\n",
              "      <th></th>\n",
              "      <th>song_id</th>\n",
              "      <th>song_length</th>\n",
              "      <th>genre_ids</th>\n",
              "      <th>artist_name</th>\n",
              "      <th>composer</th>\n",
              "      <th>lyricist</th>\n",
              "      <th>language</th>\n",
              "    </tr>\n",
              "  </thead>\n",
              "  <tbody>\n",
              "    <tr>\n",
              "      <th>0</th>\n",
              "      <td>CXoTN1eb7AI+DntdU1vbcwGRV4SCIDxZu+YD8JP8r4E=</td>\n",
              "      <td>247640</td>\n",
              "      <td>465</td>\n",
              "      <td>張信哲 (Jeff Chang)</td>\n",
              "      <td>董貞</td>\n",
              "      <td>何啟弘</td>\n",
              "      <td>3.0</td>\n",
              "    </tr>\n",
              "    <tr>\n",
              "      <th>1</th>\n",
              "      <td>o0kFgae9QtnYgRkVPqLJwa05zIhRlUjfF7O1tDw0ZDU=</td>\n",
              "      <td>197328</td>\n",
              "      <td>444</td>\n",
              "      <td>BLACKPINK</td>\n",
              "      <td>TEDDY|  FUTURE BOUNCE|  Bekuh BOOM</td>\n",
              "      <td>TEDDY</td>\n",
              "      <td>31.0</td>\n",
              "    </tr>\n",
              "    <tr>\n",
              "      <th>2</th>\n",
              "      <td>DwVvVurfpuz+XPuFvucclVQEyPqcpUkHR0ne1RQzPs0=</td>\n",
              "      <td>231781</td>\n",
              "      <td>465</td>\n",
              "      <td>SUPER JUNIOR</td>\n",
              "      <td>NaN</td>\n",
              "      <td>NaN</td>\n",
              "      <td>31.0</td>\n",
              "    </tr>\n",
              "    <tr>\n",
              "      <th>3</th>\n",
              "      <td>dKMBWoZyScdxSkihKG+Vf47nc18N9q4m58+b4e7dSSE=</td>\n",
              "      <td>273554</td>\n",
              "      <td>465</td>\n",
              "      <td>S.H.E</td>\n",
              "      <td>湯小康</td>\n",
              "      <td>徐世珍</td>\n",
              "      <td>3.0</td>\n",
              "    </tr>\n",
              "    <tr>\n",
              "      <th>4</th>\n",
              "      <td>W3bqWd3T+VeHFzHAUfARgW9AvVRaF4N5Yzm4Mr6Eo/o=</td>\n",
              "      <td>140329</td>\n",
              "      <td>726</td>\n",
              "      <td>貴族精選</td>\n",
              "      <td>Traditional</td>\n",
              "      <td>Traditional</td>\n",
              "      <td>52.0</td>\n",
              "    </tr>\n",
              "  </tbody>\n",
              "</table>\n",
              "</div>"
            ],
            "text/plain": [
              "                                        song_id  ...  language\n",
              "0  CXoTN1eb7AI+DntdU1vbcwGRV4SCIDxZu+YD8JP8r4E=  ...       3.0\n",
              "1  o0kFgae9QtnYgRkVPqLJwa05zIhRlUjfF7O1tDw0ZDU=  ...      31.0\n",
              "2  DwVvVurfpuz+XPuFvucclVQEyPqcpUkHR0ne1RQzPs0=  ...      31.0\n",
              "3  dKMBWoZyScdxSkihKG+Vf47nc18N9q4m58+b4e7dSSE=  ...       3.0\n",
              "4  W3bqWd3T+VeHFzHAUfARgW9AvVRaF4N5Yzm4Mr6Eo/o=  ...      52.0\n",
              "\n",
              "[5 rows x 7 columns]"
            ]
          },
          "metadata": {},
          "execution_count": 7
        }
      ]
    },
    {
      "cell_type": "code",
      "metadata": {
        "colab": {
          "base_uri": "https://localhost:8080/",
          "height": 243
        },
        "id": "y5ubRD2SeiJJ",
        "outputId": "7634e32d-c185-4cb8-a0fd-7f894391fb52"
      },
      "source": [
        "df5=pd.read_csv(\"/content/drive/My Drive/test.csv\")\n",
        "df5.head()"
      ],
      "execution_count": null,
      "outputs": [
        {
          "output_type": "execute_result",
          "data": {
            "text/html": [
              "<div>\n",
              "<style scoped>\n",
              "    .dataframe tbody tr th:only-of-type {\n",
              "        vertical-align: middle;\n",
              "    }\n",
              "\n",
              "    .dataframe tbody tr th {\n",
              "        vertical-align: top;\n",
              "    }\n",
              "\n",
              "    .dataframe thead th {\n",
              "        text-align: right;\n",
              "    }\n",
              "</style>\n",
              "<table border=\"1\" class=\"dataframe\">\n",
              "  <thead>\n",
              "    <tr style=\"text-align: right;\">\n",
              "      <th></th>\n",
              "      <th>id</th>\n",
              "      <th>msno</th>\n",
              "      <th>song_id</th>\n",
              "      <th>source_system_tab</th>\n",
              "      <th>source_screen_name</th>\n",
              "      <th>source_type</th>\n",
              "    </tr>\n",
              "  </thead>\n",
              "  <tbody>\n",
              "    <tr>\n",
              "      <th>0</th>\n",
              "      <td>0</td>\n",
              "      <td>V8ruy7SGk7tDm3zA51DPpn6qutt+vmKMBKa21dp54uM=</td>\n",
              "      <td>WmHKgKMlp1lQMecNdNvDMkvIycZYHnFwDT72I5sIssc=</td>\n",
              "      <td>my library</td>\n",
              "      <td>Local playlist more</td>\n",
              "      <td>local-library</td>\n",
              "    </tr>\n",
              "    <tr>\n",
              "      <th>1</th>\n",
              "      <td>1</td>\n",
              "      <td>V8ruy7SGk7tDm3zA51DPpn6qutt+vmKMBKa21dp54uM=</td>\n",
              "      <td>y/rsZ9DC7FwK5F2PK2D5mj+aOBUJAjuu3dZ14NgE0vM=</td>\n",
              "      <td>my library</td>\n",
              "      <td>Local playlist more</td>\n",
              "      <td>local-library</td>\n",
              "    </tr>\n",
              "    <tr>\n",
              "      <th>2</th>\n",
              "      <td>2</td>\n",
              "      <td>/uQAlrAkaczV+nWCd2sPF2ekvXPRipV7q0l+gbLuxjw=</td>\n",
              "      <td>8eZLFOdGVdXBSqoAv5nsLigeH2BvKXzTQYtUM53I0k4=</td>\n",
              "      <td>discover</td>\n",
              "      <td>NaN</td>\n",
              "      <td>song-based-playlist</td>\n",
              "    </tr>\n",
              "    <tr>\n",
              "      <th>3</th>\n",
              "      <td>3</td>\n",
              "      <td>1a6oo/iXKatxQx4eS9zTVD+KlSVaAFbTIqVvwLC1Y0k=</td>\n",
              "      <td>ztCf8thYsS4YN3GcIL/bvoxLm/T5mYBVKOO4C9NiVfQ=</td>\n",
              "      <td>radio</td>\n",
              "      <td>Radio</td>\n",
              "      <td>radio</td>\n",
              "    </tr>\n",
              "    <tr>\n",
              "      <th>4</th>\n",
              "      <td>4</td>\n",
              "      <td>1a6oo/iXKatxQx4eS9zTVD+KlSVaAFbTIqVvwLC1Y0k=</td>\n",
              "      <td>MKVMpslKcQhMaFEgcEQhEfi5+RZhMYlU3eRDpySrH8Y=</td>\n",
              "      <td>radio</td>\n",
              "      <td>Radio</td>\n",
              "      <td>radio</td>\n",
              "    </tr>\n",
              "  </tbody>\n",
              "</table>\n",
              "</div>"
            ],
            "text/plain": [
              "   id  ...          source_type\n",
              "0   0  ...        local-library\n",
              "1   1  ...        local-library\n",
              "2   2  ...  song-based-playlist\n",
              "3   3  ...                radio\n",
              "4   4  ...                radio\n",
              "\n",
              "[5 rows x 6 columns]"
            ]
          },
          "metadata": {},
          "execution_count": 8
        }
      ]
    },
    {
      "cell_type": "code",
      "metadata": {
        "colab": {
          "base_uri": "https://localhost:8080/",
          "height": 261
        },
        "id": "0GKaqhh1epnB",
        "outputId": "edc73d5b-0824-42a1-bd4b-bde5eefda9b4"
      },
      "source": [
        "df6=pd.read_csv(\"/content/drive/My Drive/train.csv\")\n",
        "df6.head()"
      ],
      "execution_count": null,
      "outputs": [
        {
          "output_type": "execute_result",
          "data": {
            "text/html": [
              "<div>\n",
              "<style scoped>\n",
              "    .dataframe tbody tr th:only-of-type {\n",
              "        vertical-align: middle;\n",
              "    }\n",
              "\n",
              "    .dataframe tbody tr th {\n",
              "        vertical-align: top;\n",
              "    }\n",
              "\n",
              "    .dataframe thead th {\n",
              "        text-align: right;\n",
              "    }\n",
              "</style>\n",
              "<table border=\"1\" class=\"dataframe\">\n",
              "  <thead>\n",
              "    <tr style=\"text-align: right;\">\n",
              "      <th></th>\n",
              "      <th>msno</th>\n",
              "      <th>song_id</th>\n",
              "      <th>source_system_tab</th>\n",
              "      <th>source_screen_name</th>\n",
              "      <th>source_type</th>\n",
              "      <th>target</th>\n",
              "    </tr>\n",
              "  </thead>\n",
              "  <tbody>\n",
              "    <tr>\n",
              "      <th>0</th>\n",
              "      <td>FGtllVqz18RPiwJj/edr2gV78zirAiY/9SmYvia+kCg=</td>\n",
              "      <td>BBzumQNXUHKdEBOB7mAJuzok+IJA1c2Ryg/yzTF6tik=</td>\n",
              "      <td>explore</td>\n",
              "      <td>Explore</td>\n",
              "      <td>online-playlist</td>\n",
              "      <td>1</td>\n",
              "    </tr>\n",
              "    <tr>\n",
              "      <th>1</th>\n",
              "      <td>Xumu+NIjS6QYVxDS4/t3SawvJ7viT9hPKXmf0RtLNx8=</td>\n",
              "      <td>bhp/MpSNoqoxOIB+/l8WPqu6jldth4DIpCm3ayXnJqM=</td>\n",
              "      <td>my library</td>\n",
              "      <td>Local playlist more</td>\n",
              "      <td>local-playlist</td>\n",
              "      <td>1</td>\n",
              "    </tr>\n",
              "    <tr>\n",
              "      <th>2</th>\n",
              "      <td>Xumu+NIjS6QYVxDS4/t3SawvJ7viT9hPKXmf0RtLNx8=</td>\n",
              "      <td>JNWfrrC7zNN7BdMpsISKa4Mw+xVJYNnxXh3/Epw7QgY=</td>\n",
              "      <td>my library</td>\n",
              "      <td>Local playlist more</td>\n",
              "      <td>local-playlist</td>\n",
              "      <td>1</td>\n",
              "    </tr>\n",
              "    <tr>\n",
              "      <th>3</th>\n",
              "      <td>Xumu+NIjS6QYVxDS4/t3SawvJ7viT9hPKXmf0RtLNx8=</td>\n",
              "      <td>2A87tzfnJTSWqD7gIZHisolhe4DMdzkbd6LzO1KHjNs=</td>\n",
              "      <td>my library</td>\n",
              "      <td>Local playlist more</td>\n",
              "      <td>local-playlist</td>\n",
              "      <td>1</td>\n",
              "    </tr>\n",
              "    <tr>\n",
              "      <th>4</th>\n",
              "      <td>FGtllVqz18RPiwJj/edr2gV78zirAiY/9SmYvia+kCg=</td>\n",
              "      <td>3qm6XTZ6MOCU11x8FIVbAGH5l5uMkT3/ZalWG1oo2Gc=</td>\n",
              "      <td>explore</td>\n",
              "      <td>Explore</td>\n",
              "      <td>online-playlist</td>\n",
              "      <td>1</td>\n",
              "    </tr>\n",
              "  </tbody>\n",
              "</table>\n",
              "</div>"
            ],
            "text/plain": [
              "                                           msno  ... target\n",
              "0  FGtllVqz18RPiwJj/edr2gV78zirAiY/9SmYvia+kCg=  ...      1\n",
              "1  Xumu+NIjS6QYVxDS4/t3SawvJ7viT9hPKXmf0RtLNx8=  ...      1\n",
              "2  Xumu+NIjS6QYVxDS4/t3SawvJ7viT9hPKXmf0RtLNx8=  ...      1\n",
              "3  Xumu+NIjS6QYVxDS4/t3SawvJ7viT9hPKXmf0RtLNx8=  ...      1\n",
              "4  FGtllVqz18RPiwJj/edr2gV78zirAiY/9SmYvia+kCg=  ...      1\n",
              "\n",
              "[5 rows x 6 columns]"
            ]
          },
          "metadata": {},
          "execution_count": 10
        }
      ]
    },
    {
      "cell_type": "code",
      "metadata": {
        "id": "d5ZMxCTzYg2N"
      },
      "source": [
        "data cleaning and enhancement"
      ],
      "execution_count": null,
      "outputs": []
    },
    {
      "cell_type": "code",
      "metadata": {
        "id": "Bp1PqiKPetA-"
      },
      "source": [
        "train = df6.merge(df3,how = 'left', on = 'msno')\n",
        "train = train.merge(df4, how='left', on='song_id')\n",
        "test = df5.merge(df3,how = 'left', on = 'msno')\n",
        "test = test.merge(df4, how='left', on='song_id')\n",
        "\n"
      ],
      "execution_count": null,
      "outputs": []
    },
    {
      "cell_type": "code",
      "metadata": {
        "colab": {
          "base_uri": "https://localhost:8080/"
        },
        "id": "pSTWQDL8gc_U",
        "outputId": "3f8e1848-5d17-414e-e474-a5f40f5464b0"
      },
      "source": [
        "print(train.head())\n",
        "print(test.head())"
      ],
      "execution_count": null,
      "outputs": [
        {
          "output_type": "stream",
          "text": [
            "                                           msno  ... language\n",
            "0  FGtllVqz18RPiwJj/edr2gV78zirAiY/9SmYvia+kCg=  ...     52.0\n",
            "1  Xumu+NIjS6QYVxDS4/t3SawvJ7viT9hPKXmf0RtLNx8=  ...     52.0\n",
            "2  Xumu+NIjS6QYVxDS4/t3SawvJ7viT9hPKXmf0RtLNx8=  ...     52.0\n",
            "3  Xumu+NIjS6QYVxDS4/t3SawvJ7viT9hPKXmf0RtLNx8=  ...     -1.0\n",
            "4  FGtllVqz18RPiwJj/edr2gV78zirAiY/9SmYvia+kCg=  ...     52.0\n",
            "\n",
            "[5 rows x 18 columns]\n",
            "   id                                          msno  ...      lyricist language\n",
            "0   0  V8ruy7SGk7tDm3zA51DPpn6qutt+vmKMBKa21dp54uM=  ...           NaN      3.0\n",
            "1   1  V8ruy7SGk7tDm3zA51DPpn6qutt+vmKMBKa21dp54uM=  ...       孫燕姿/易家揚      3.0\n",
            "2   2  /uQAlrAkaczV+nWCd2sPF2ekvXPRipV7q0l+gbLuxjw=  ...  Yu Takahashi     17.0\n",
            "3   3  1a6oo/iXKatxQx4eS9zTVD+KlSVaAFbTIqVvwLC1Y0k=  ...           NaN     52.0\n",
            "4   4  1a6oo/iXKatxQx4eS9zTVD+KlSVaAFbTIqVvwLC1Y0k=  ...           NaN     -1.0\n",
            "\n",
            "[5 rows x 18 columns]\n"
          ],
          "name": "stdout"
        }
      ]
    },
    {
      "cell_type": "code",
      "metadata": {
        "colab": {
          "base_uri": "https://localhost:8080/"
        },
        "id": "ENTKKmf1grdz",
        "outputId": "9b64766e-2657-4c99-b525-42c57a1b1797"
      },
      "source": [
        "train.info()"
      ],
      "execution_count": null,
      "outputs": [
        {
          "output_type": "stream",
          "text": [
            "<class 'pandas.core.frame.DataFrame'>\n",
            "Int64Index: 7377418 entries, 0 to 7377417\n",
            "Data columns (total 18 columns):\n",
            " #   Column                  Dtype  \n",
            "---  ------                  -----  \n",
            " 0   msno                    object \n",
            " 1   song_id                 object \n",
            " 2   source_system_tab       object \n",
            " 3   source_screen_name      object \n",
            " 4   source_type             object \n",
            " 5   target                  int64  \n",
            " 6   city                    int64  \n",
            " 7   bd                      int64  \n",
            " 8   gender                  object \n",
            " 9   registered_via          int64  \n",
            " 10  registration_init_time  int64  \n",
            " 11  expiration_date         int64  \n",
            " 12  song_length             float64\n",
            " 13  genre_ids               object \n",
            " 14  artist_name             object \n",
            " 15  composer                object \n",
            " 16  lyricist                object \n",
            " 17  language                float64\n",
            "dtypes: float64(2), int64(6), object(10)\n",
            "memory usage: 1.0+ GB\n"
          ],
          "name": "stdout"
        }
      ]
    },
    {
      "cell_type": "code",
      "metadata": {
        "id": "XdnK0C9ohS9S"
      },
      "source": [
        "for column in ['city', 'registered_via', 'language']:\n",
        "    train[column] = train[column].astype('str')\n",
        "    test[column] = test[column].astype('str')\n",
        "\n",
        "for column in ['registration_init_time', 'expiration_date']:\n",
        "  train[column] = pd.to_datetime(train[column], format='%Y%m%d')\n",
        "  test[column] = pd.to_datetime(test[column], format='%Y%m%d')\n"
      ],
      "execution_count": null,
      "outputs": []
    },
    {
      "cell_type": "code",
      "metadata": {
        "id": "6oqCB2PIjWm3"
      },
      "source": [
        "for column in list(train.columns):\n",
        "    if train[column].dtype.kind == 'O':\n",
        "        train[column].fillna('NA', inplace=True)\n",
        "    elif train[column].dtype.kind in ['i','f']:\n",
        "        if train[column].isnull().sum() > 0:\n",
        "            train[column].fillna(train[column].median(), inplace=True)\n",
        "for column in list(test.columns):\n",
        "    if test[column].dtype.kind == 'O':\n",
        "        test[column].fillna('NA', inplace=True)\n",
        "    elif test[column].dtype.kind in ['i','f']:\n",
        "        if test[column].isnull().sum() > 0:\n",
        "            test[column].fillna(test[column].median(), inplace=True)"
      ],
      "execution_count": null,
      "outputs": []
    },
    {
      "cell_type": "code",
      "metadata": {
        "id": "SsnLx0msjZ68"
      },
      "source": [
        "for x in [x for x in train.columns if train[x].dtype.kind == 'O']:\n",
        "    train[x] = train[x].astype('category')\n",
        "\n",
        "for x in [x for x in test.columns if test[x].dtype.kind == 'O']:\n",
        "    test[x] = test[x].astype('category')\n",
        "for col in train.select_dtypes(include=['category']).columns:\n",
        "    train[col] = train[col].cat.codes\n",
        "for col in test.select_dtypes(include=['category']).columns:\n",
        "    test[col] = test[col].cat.codes\n"
      ],
      "execution_count": null,
      "outputs": []
    },
    {
      "cell_type": "code",
      "metadata": {
        "colab": {
          "base_uri": "https://localhost:8080/"
        },
        "id": "2w6McfklqImU",
        "outputId": "e7735dd7-8b70-4e7f-f289-e20cf8efb0cf"
      },
      "source": [
        "!pip install catboost"
      ],
      "execution_count": null,
      "outputs": [
        {
          "output_type": "stream",
          "text": [
            "Collecting catboost\n",
            "  Downloading catboost-0.26.1-cp37-none-manylinux1_x86_64.whl (67.4 MB)\n",
            "\u001b[K     |████████████████████████████████| 67.4 MB 42 kB/s \n",
            "\u001b[?25hRequirement already satisfied: numpy>=1.16.0 in /usr/local/lib/python3.7/dist-packages (from catboost) (1.19.5)\n",
            "Requirement already satisfied: scipy in /usr/local/lib/python3.7/dist-packages (from catboost) (1.4.1)\n",
            "Requirement already satisfied: six in /usr/local/lib/python3.7/dist-packages (from catboost) (1.15.0)\n",
            "Requirement already satisfied: graphviz in /usr/local/lib/python3.7/dist-packages (from catboost) (0.10.1)\n",
            "Requirement already satisfied: pandas>=0.24.0 in /usr/local/lib/python3.7/dist-packages (from catboost) (1.1.5)\n",
            "Requirement already satisfied: plotly in /usr/local/lib/python3.7/dist-packages (from catboost) (4.4.1)\n",
            "Requirement already satisfied: matplotlib in /usr/local/lib/python3.7/dist-packages (from catboost) (3.2.2)\n",
            "Requirement already satisfied: pytz>=2017.2 in /usr/local/lib/python3.7/dist-packages (from pandas>=0.24.0->catboost) (2018.9)\n",
            "Requirement already satisfied: python-dateutil>=2.7.3 in /usr/local/lib/python3.7/dist-packages (from pandas>=0.24.0->catboost) (2.8.2)\n",
            "Requirement already satisfied: pyparsing!=2.0.4,!=2.1.2,!=2.1.6,>=2.0.1 in /usr/local/lib/python3.7/dist-packages (from matplotlib->catboost) (2.4.7)\n",
            "Requirement already satisfied: cycler>=0.10 in /usr/local/lib/python3.7/dist-packages (from matplotlib->catboost) (0.10.0)\n",
            "Requirement already satisfied: kiwisolver>=1.0.1 in /usr/local/lib/python3.7/dist-packages (from matplotlib->catboost) (1.3.1)\n",
            "Requirement already satisfied: retrying>=1.3.3 in /usr/local/lib/python3.7/dist-packages (from plotly->catboost) (1.3.3)\n",
            "Installing collected packages: catboost\n",
            "Successfully installed catboost-0.26.1\n"
          ],
          "name": "stdout"
        }
      ]
    },
    {
      "cell_type": "markdown",
      "metadata": {
        "id": "hb90w0G9gs77"
      },
      "source": [
        "##### 3.model training and prediction"
      ]
    },
    {
      "cell_type": "code",
      "metadata": {
        "colab": {
          "base_uri": "https://localhost:8080/"
        },
        "id": "rGtQ38d0o9VM",
        "outputId": "07391fdf-fd96-4413-9249-fbfeac4fd53c"
      },
      "source": [
        "from catboost import CatBoostClassifier\n",
        "X_train = train.drop(['target'], axis = 1)\n",
        "y_train = train.target\n",
        "\n",
        "\n",
        "model = CatBoostClassifier(iterations = 50, learning_rate = 0.3, depth =10)\n",
        "model.fit(X_train, y_train)"
      ],
      "execution_count": null,
      "outputs": [
        {
          "output_type": "stream",
          "text": [
            "0:\tlearn: 0.6724585\ttotal: 3.41s\tremaining: 2m 47s\n",
            "1:\tlearn: 0.6617438\ttotal: 6.7s\tremaining: 2m 40s\n",
            "2:\tlearn: 0.6558081\ttotal: 9.87s\tremaining: 2m 34s\n",
            "3:\tlearn: 0.6520938\ttotal: 13.1s\tremaining: 2m 31s\n",
            "4:\tlearn: 0.6499720\ttotal: 16.5s\tremaining: 2m 28s\n",
            "5:\tlearn: 0.6485910\ttotal: 19.8s\tremaining: 2m 24s\n",
            "6:\tlearn: 0.6472474\ttotal: 23.2s\tremaining: 2m 22s\n",
            "7:\tlearn: 0.6463868\ttotal: 26.4s\tremaining: 2m 18s\n",
            "8:\tlearn: 0.6455208\ttotal: 29.9s\tremaining: 2m 16s\n",
            "9:\tlearn: 0.6445860\ttotal: 33.2s\tremaining: 2m 12s\n",
            "10:\tlearn: 0.6436773\ttotal: 36.7s\tremaining: 2m 10s\n",
            "11:\tlearn: 0.6431074\ttotal: 40.1s\tremaining: 2m 6s\n",
            "12:\tlearn: 0.6423387\ttotal: 43.3s\tremaining: 2m 3s\n",
            "13:\tlearn: 0.6418105\ttotal: 46.7s\tremaining: 2m\n",
            "14:\tlearn: 0.6414277\ttotal: 49.9s\tremaining: 1m 56s\n",
            "15:\tlearn: 0.6410635\ttotal: 53.1s\tremaining: 1m 52s\n",
            "16:\tlearn: 0.6406671\ttotal: 56.3s\tremaining: 1m 49s\n",
            "17:\tlearn: 0.6402820\ttotal: 59.6s\tremaining: 1m 45s\n",
            "18:\tlearn: 0.6397845\ttotal: 1m 2s\tremaining: 1m 42s\n",
            "19:\tlearn: 0.6392275\ttotal: 1m 6s\tremaining: 1m 39s\n",
            "20:\tlearn: 0.6387829\ttotal: 1m 9s\tremaining: 1m 36s\n",
            "21:\tlearn: 0.6378898\ttotal: 1m 13s\tremaining: 1m 33s\n",
            "22:\tlearn: 0.6374574\ttotal: 1m 16s\tremaining: 1m 29s\n",
            "23:\tlearn: 0.6371085\ttotal: 1m 19s\tremaining: 1m 26s\n",
            "24:\tlearn: 0.6364589\ttotal: 1m 23s\tremaining: 1m 23s\n",
            "25:\tlearn: 0.6361434\ttotal: 1m 26s\tremaining: 1m 19s\n",
            "26:\tlearn: 0.6357090\ttotal: 1m 29s\tremaining: 1m 16s\n",
            "27:\tlearn: 0.6355581\ttotal: 1m 32s\tremaining: 1m 12s\n",
            "28:\tlearn: 0.6352497\ttotal: 1m 36s\tremaining: 1m 9s\n",
            "29:\tlearn: 0.6346682\ttotal: 1m 39s\tremaining: 1m 6s\n",
            "30:\tlearn: 0.6345134\ttotal: 1m 42s\tremaining: 1m 2s\n",
            "31:\tlearn: 0.6338434\ttotal: 1m 46s\tremaining: 60s\n",
            "32:\tlearn: 0.6335581\ttotal: 1m 49s\tremaining: 56.6s\n",
            "33:\tlearn: 0.6329906\ttotal: 1m 53s\tremaining: 53.3s\n",
            "34:\tlearn: 0.6327042\ttotal: 1m 56s\tremaining: 50s\n",
            "35:\tlearn: 0.6325232\ttotal: 1m 59s\tremaining: 46.6s\n",
            "36:\tlearn: 0.6322992\ttotal: 2m 3s\tremaining: 43.2s\n",
            "37:\tlearn: 0.6319988\ttotal: 2m 6s\tremaining: 39.9s\n",
            "38:\tlearn: 0.6317450\ttotal: 2m 9s\tremaining: 36.6s\n",
            "39:\tlearn: 0.6311851\ttotal: 2m 13s\tremaining: 33.3s\n",
            "40:\tlearn: 0.6309713\ttotal: 2m 16s\tremaining: 29.9s\n",
            "41:\tlearn: 0.6307550\ttotal: 2m 19s\tremaining: 26.6s\n",
            "42:\tlearn: 0.6305077\ttotal: 2m 22s\tremaining: 23.3s\n",
            "43:\tlearn: 0.6301947\ttotal: 2m 26s\tremaining: 19.9s\n",
            "44:\tlearn: 0.6299941\ttotal: 2m 29s\tremaining: 16.6s\n",
            "45:\tlearn: 0.6294454\ttotal: 2m 32s\tremaining: 13.3s\n",
            "46:\tlearn: 0.6291685\ttotal: 2m 36s\tremaining: 9.98s\n",
            "47:\tlearn: 0.6289765\ttotal: 2m 39s\tremaining: 6.66s\n",
            "48:\tlearn: 0.6285629\ttotal: 2m 43s\tremaining: 3.33s\n",
            "49:\tlearn: 0.6282879\ttotal: 2m 46s\tremaining: 0us\n"
          ],
          "name": "stdout"
        },
        {
          "output_type": "execute_result",
          "data": {
            "text/plain": [
              "<catboost.core.CatBoostClassifier at 0x7f69ae81ced0>"
            ]
          },
          "metadata": {},
          "execution_count": 31
        }
      ]
    },
    {
      "cell_type": "code",
      "metadata": {
        "colab": {
          "base_uri": "https://localhost:8080/"
        },
        "id": "etJs81wRqH0L",
        "outputId": "e837db54-a4d2-4380-82fd-99d13528d0f5"
      },
      "source": [
        "predict_labels = model.predict(test)\n",
        "test['target'] = predict_labels\n",
        "print(test)"
      ],
      "execution_count": null,
      "outputs": [
        {
          "output_type": "stream",
          "text": [
            "              id   msno  song_id  ...  lyricist  language  target\n",
            "0              0  12934   122191  ...     11137         4       1\n",
            "1              1  12934   217907  ...     18460         4       1\n",
            "2              2    712    37385  ...     15873         2       0\n",
            "3              3   1383   224360  ...     11137         8       0\n",
            "4              4   1383    85597  ...     11137         0       0\n",
            "...          ...    ...      ...  ...       ...       ...     ...\n",
            "2556785  2556785  14024   212075  ...       779         8       0\n",
            "2556786  2556786  18800    78127  ...     18729         4       0\n",
            "2556787  2556787  18800   219419  ...     23635         4       0\n",
            "2556788  2556788  18800   121326  ...     11137         4       0\n",
            "2556789  2556789  18800   154308  ...     18087         4       0\n",
            "\n",
            "[2556790 rows x 19 columns]\n"
          ],
          "name": "stdout"
        }
      ]
    }
  ]
}