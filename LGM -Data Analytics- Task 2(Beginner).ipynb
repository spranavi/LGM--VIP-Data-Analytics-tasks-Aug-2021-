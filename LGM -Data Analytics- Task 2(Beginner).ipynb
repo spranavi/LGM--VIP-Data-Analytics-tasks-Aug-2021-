{
 "cells": [
  {
   "cell_type": "markdown",
   "metadata": {
    "id": "pmAhssquTyrt"
   },
   "source": [
    "# LetsGrowMore -VIP"
   ]
  },
  {
   "cell_type": "markdown",
   "metadata": {},
   "source": [
    "## Author: Pranavi Shakkari"
   ]
  },
  {
   "cell_type": "markdown",
   "metadata": {},
   "source": [
    "### Beginner Level - Task 2"
   ]
  },
  {
   "cell_type": "markdown",
   "metadata": {},
   "source": [
    "#### Stock Market Prediction And Forecasting Using Stacked LSTM"
   ]
  },
  {
   "cell_type": "markdown",
   "metadata": {},
   "source": [
    "##### 1.Importing the libraries"
   ]
  },
  {
   "cell_type": "code",
   "execution_count": null,
   "metadata": {
    "id": "D0guitSWHTQU"
   },
   "outputs": [],
   "source": [
    "import numpy as np\n",
    "import matplotlib.pyplot as plt\n",
    "import pandas as pd\n",
    "from sklearn.preprocessing import MinMaxScaler"
   ]
  },
  {
   "cell_type": "markdown",
   "metadata": {},
   "source": [
    "##### 2.Reading the data"
   ]
  },
  {
   "cell_type": "code",
   "execution_count": null,
   "metadata": {
    "colab": {
     "base_uri": "https://localhost:8080/"
    },
    "id": "m8Q-du811v67",
    "outputId": "f8b349fd-33a9-4773-9082-2c443324da6b"
   },
   "outputs": [
    {
     "name": "stdout",
     "output_type": "stream",
     "text": [
      "            Date    Open    High  ...   Close  Total Trade Quantity  Turnover (Lacs)\n",
      "0     2018-09-28  234.05  235.95  ...  233.75               3069914          7162.35\n",
      "1     2018-09-27  234.55  236.80  ...  233.25               5082859         11859.95\n",
      "2     2018-09-26  240.00  240.00  ...  234.25               2240909          5248.60\n",
      "3     2018-09-25  233.30  236.75  ...  236.10               2349368          5503.90\n",
      "4     2018-09-24  233.55  239.20  ...  233.30               3423509          7999.55\n",
      "...          ...     ...     ...  ...     ...                   ...              ...\n",
      "2030  2010-07-27  117.60  119.50  ...  118.65                586100           694.98\n",
      "2031  2010-07-26  120.10  121.00  ...  117.60                658440           780.01\n",
      "2032  2010-07-23  121.80  121.95  ...  120.65                281312           340.31\n",
      "2033  2010-07-22  120.30  122.00  ...  120.90                293312           355.17\n",
      "2034  2010-07-21  122.10  123.00  ...  121.55                658666           803.56\n",
      "\n",
      "[2035 rows x 8 columns]\n"
     ]
    }
   ],
   "source": [
    "np.random.seed(7)\n",
    "data = pd.read_csv(\"https://raw.githubusercontent.com/mwitiderrick/stockprice/master/NSE-TATAGLOBAL.csv\")\n",
    "print(data)"
   ]
  },
  {
   "cell_type": "markdown",
   "metadata": {},
   "source": [
    "##### 3.LSTM"
   ]
  },
  {
   "cell_type": "code",
   "execution_count": null,
   "metadata": {
    "id": "PBynd8SR1zPN"
   },
   "outputs": [],
   "source": [
    "data[\"Date\"]= pd.to_datetime(data[\"Date\"])\n",
    "data = data.sort_values(by = \"Date\")\n",
    "\n",
    "close_data = data.reindex(columns=[\"Date\", \"Close\"])\n",
    "close_data.index = close_data.Date\n",
    "close_data.drop('Date', axis=1, inplace=True)"
   ]
  },
  {
   "cell_type": "code",
   "execution_count": null,
   "metadata": {
    "colab": {
     "base_uri": "https://localhost:8080/"
    },
    "id": "gvx_kUYQ18by",
    "outputId": "67ddabd2-f76d-4541-9135-ac104eb86b85"
   },
   "outputs": [
    {
     "name": "stdout",
     "output_type": "stream",
     "text": [
      "1424 611\n"
     ]
    }
   ],
   "source": [
    "scaler = MinMaxScaler(feature_range=(0, 1))\n",
    "closed_scale_data = scaler.fit_transform(close_data.values)\n",
    "\n",
    "\n",
    "# split into train and test sets\n",
    "train_size = int(len(closed_scale_data) * 0.7)\n",
    "test_size = len(closed_scale_data) - train_size\n",
    "train, test = closed_scale_data[0:train_size,:], closed_scale_data[train_size:,:]\n",
    "print(len(train), len(test))\n"
   ]
  },
  {
   "cell_type": "code",
   "execution_count": null,
   "metadata": {
    "id": "JsNCR3hFGH9W"
   },
   "outputs": [],
   "source": [
    "# convert an array of values into a dataset matrix\n",
    "def create_dataset(dataset, look_back=1):\n",
    "\tdataX, dataY = [], []\n",
    "\tfor i in range(len(dataset)-look_back-1):\n",
    "\t\ta = dataset[i:(i+look_back), 0]\n",
    "\t\tdataX.append(a)\n",
    "\t\tdataY.append(dataset[i + look_back, 0])\n",
    "\treturn np.array(dataX), np.array(dataY)\n",
    " \n",
    "look_back = 20\n",
    "trainX, trainY = create_dataset(train, look_back)\n",
    "testX, testY = create_dataset(test, look_back)\n",
    "\n",
    "# reshape input to be [samples, time steps, features]\n",
    "trainX = np.reshape(trainX, (trainX.shape[0], trainX.shape[1], 1))\n",
    "testX = np.reshape(testX, (testX.shape[0], testX.shape[1],1))"
   ]
  },
  {
   "cell_type": "code",
   "execution_count": null,
   "metadata": {
    "colab": {
     "base_uri": "https://localhost:8080/"
    },
    "id": "4kFHJHFF4ZDz",
    "outputId": "39710a81-1e11-4442-fea8-ccf6f83d653d"
   },
   "outputs": [
    {
     "name": "stdout",
     "output_type": "stream",
     "text": [
      "Epoch 1/10\n",
      "1403/1403 - 15s - loss: 7.1928e-04\n",
      "Epoch 2/10\n",
      "1403/1403 - 12s - loss: 2.9886e-04\n",
      "Epoch 3/10\n",
      "1403/1403 - 12s - loss: 2.1800e-04\n",
      "Epoch 4/10\n",
      "1403/1403 - 12s - loss: 2.0125e-04\n",
      "Epoch 5/10\n",
      "1403/1403 - 12s - loss: 1.9780e-04\n",
      "Epoch 6/10\n",
      "1403/1403 - 12s - loss: 1.7635e-04\n",
      "Epoch 7/10\n",
      "1403/1403 - 12s - loss: 1.8178e-04\n",
      "Epoch 8/10\n",
      "1403/1403 - 13s - loss: 1.7290e-04\n",
      "Epoch 9/10\n",
      "1403/1403 - 12s - loss: 1.6744e-04\n",
      "Epoch 10/10\n",
      "1403/1403 - 12s - loss: 1.6444e-04\n"
     ]
    },
    {
     "data": {
      "text/plain": [
       "<keras.callbacks.History at 0x7fb048b9b950>"
      ]
     },
     "execution_count": 6,
     "metadata": {},
     "output_type": "execute_result"
    }
   ],
   "source": [
    "from keras.models import Sequential\n",
    "from keras.layers import Dense, LSTM, Dropout\n",
    "\n",
    "model = Sequential()\n",
    "model.add(LSTM(units=50, return_sequences=True, input_shape=(trainX.shape[1],1)))\n",
    "model.add(LSTM(units=50))\n",
    "model.add(Dense(1))\n",
    "\n",
    "model.compile(loss='mean_squared_error', optimizer='adam')\n",
    "model.fit(trainX, trainY, epochs=10, batch_size=1, verbose=2)"
   ]
  },
  {
   "cell_type": "code",
   "execution_count": null,
   "metadata": {
    "colab": {
     "base_uri": "https://localhost:8080/"
    },
    "id": "Bq6P6rxM5kJs",
    "outputId": "552c4dfe-c11a-417c-e76c-e46fe0eb2afe"
   },
   "outputs": [
    {
     "name": "stdout",
     "output_type": "stream",
     "text": [
      "Test Score: 8.62 RMSE\n"
     ]
    }
   ],
   "source": [
    "import math\n",
    "from sklearn.metrics import mean_squared_error\n",
    "# make predictions\n",
    "trainPredict = model.predict(trainX)\n",
    "testPredict = model.predict(testX)\n",
    "# invert predictions\n",
    "testPredict = scaler.inverse_transform(testPredict)\n",
    "testY = scaler.inverse_transform([testY])\n",
    "# calculate root mean squared error\n",
    "testScore = math.sqrt(mean_squared_error(testY[0], testPredict[:,0]))\n",
    "print('Test Score: %.2f RMSE' % (testScore))"
   ]
  },
  {
   "cell_type": "code",
   "execution_count": null,
   "metadata": {
    "colab": {
     "base_uri": "https://localhost:8080/",
     "height": 483
    },
    "id": "lMJqMIXO60wo",
    "outputId": "41e0a2bc-1e9a-43e2-b778-cb944cd4158d"
   },
   "outputs": [
    {
     "data": {
      "image/png": "[encoded data removed]",
      "text/plain": [
       "<Figure size 1080x576 with 1 Axes>"
      ]
     },
     "metadata": {
      "needs_background": "light"
     },
     "output_type": "display_data"
    }
   ],
   "source": [
    "# shift train predictions for plotting\n",
    "trainPredictPlot = np.empty_like(closed_scale_data)\n",
    "# shift test predictions for plotting\n",
    "testPredictPlot = np.empty_like(closed_scale_data)\n",
    "testPredictPlot[:, :] = np.nan\n",
    "testPredictPlot[len(trainPredict)+(look_back*2)+1:len(closed_scale_data)-1, :] = testPredict\n",
    "# plot baseline and predictions\n",
    "plt.figure(figsize=(15,8))\n",
    "plt.plot(scaler.inverse_transform(closed_scale_data))\n",
    "\n",
    "plt.plot(testPredictPlot)\n",
    "plt.show()"
   ]
  },
  {
   "cell_type": "code",
   "execution_count": null,
   "metadata": {
    "id": "1rIZ4H-W9LP3"
   },
   "outputs": [],
   "source": []
  }
 ],
 "metadata": {
  "colab": {
   "collapsed_sections": [],
   "name": "Untitled4.ipynb",
   "provenance": []
  },
  "kernelspec": {
   "display_name": "Python 3",
   "language": "python",
   "name": "python3"
  },
  "language_info": {
   "codemirror_mode": {
    "name": "ipython",
    "version": 3
   },
   "file_extension": ".py",
   "mimetype": "text/x-python",
   "name": "python",
   "nbconvert_exporter": "python",
   "pygments_lexer": "ipython3",
   "version": "3.8.10"
  }
 },
 "nbformat": 4,
 "nbformat_minor": 1
}
